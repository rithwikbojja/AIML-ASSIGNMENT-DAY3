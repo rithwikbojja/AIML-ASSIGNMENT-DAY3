{
  "nbformat": 4,
  "nbformat_minor": 0,
  "metadata": {
    "colab": {
      "name": "ASSIGNMENT",
      "provenance": [],
      "collapsed_sections": []
    },
    "kernelspec": {
      "name": "python3",
      "display_name": "Python 3"
    }
  },
  "cells": [
    {
      "cell_type": "code",
      "metadata": {
        "id": "91EqZbQnAHm9",
        "colab_type": "code",
        "colab": {
          "base_uri": "https://localhost:8080/",
          "height": 119
        },
        "outputId": "67cf7b24-1655-4aa8-9863-078e5bd7326b"
      },
      "source": [
        "#1.PATTERN\n",
        "\n",
        "x= int(input(\"#rows:\"))\n",
        "for r in range(0,x):\n",
        "    for c in range(0,r+1):\n",
        "        print('* ',end=\"\")\n",
        "    print('\\r')"
      ],
      "execution_count": 1,
      "outputs": [
        {
          "output_type": "stream",
          "text": [
            "#rows:5\n",
            "* \n",
            "* * \n",
            "* * * \n",
            "* * * * \n",
            "* * * * * \n"
          ],
          "name": "stdout"
        }
      ]
    },
    {
      "cell_type": "code",
      "metadata": {
        "id": "eWZTFXixAR8J",
        "colab_type": "code",
        "colab": {
          "base_uri": "https://localhost:8080/",
          "height": 221
        },
        "outputId": "4882f6b9-e705-4eba-985e-908b604f5e1d"
      },
      "source": [
        "\n",
        "#2.MULTIPLICATION OF K NUMBER\n",
        "\n",
        "num= int(input(\"Enter K #no for multiplication:\"))\n",
        "x=int(input(\"enter #no multiplications:\"))\n",
        "for i in range(1,x):\n",
        "    print(num,'*',i,'=', num*i)"
      ],
      "execution_count": 2,
      "outputs": [
        {
          "output_type": "stream",
          "text": [
            "Enter K #no for multiplication:7\n",
            "enter #no multiplications:11\n",
            "7 * 1 = 7\n",
            "7 * 2 = 14\n",
            "7 * 3 = 21\n",
            "7 * 4 = 28\n",
            "7 * 5 = 35\n",
            "7 * 6 = 42\n",
            "7 * 7 = 49\n",
            "7 * 8 = 56\n",
            "7 * 9 = 63\n",
            "7 * 10 = 70\n"
          ],
          "name": "stdout"
        }
      ]
    },
    {
      "cell_type": "code",
      "metadata": {
        "id": "wPaAdaS3AR-b",
        "colab_type": "code",
        "colab": {}
      },
      "source": [
        "import math\n",
        "a = float(input(\"enter a value:\"))\n",
        "b = float(input(\"enter b value:\"))\n",
        "c = float(input(\"enter c value:\"))\n",
        "\n",
        "d = b**2 - 4*a*c\n",
        "\n",
        "if d>0:\n",
        "    root1 = (((-b)-math.sqrt(d))//(2*a))\n",
        "    root2 = (((-b)+math.sqrt(d))//(2*a))\n",
        "    print(\"roots are: \",root1,root2)\n",
        "elif d==0:\n",
        "    rootX=((-b)//2*a)\n",
        "    print(\"roots are:\",rootX)\n",
        "else:\n",
        "    print(\"No roots \")"
      ],
      "execution_count": 0,
      "outputs": []
    },
    {
      "cell_type": "code",
      "metadata": {
        "id": "FO4wqxFCASAx",
        "colab_type": "code",
        "colab": {
          "base_uri": "https://localhost:8080/",
          "height": 51
        },
        "outputId": "51775298-f0f4-4677-e9f8-fbe7997ce17a"
      },
      "source": [
        "\n",
        "#4.DECIMAL TO BINARY \n",
        "n = int(input(\"Decimal #no\"))\n",
        "c=[]\n",
        "while n>0:\n",
        "    d=n%2\n",
        "    c.append(d)\n",
        "    n=n//2\n",
        "print(c,end=\" \")"
      ],
      "execution_count": 6,
      "outputs": [
        {
          "output_type": "stream",
          "text": [
            "Decimal #no5\n",
            "[1, 0, 1] "
          ],
          "name": "stdout"
        }
      ]
    },
    {
      "cell_type": "code",
      "metadata": {
        "id": "oAz7gP3EASEI",
        "colab_type": "code",
        "colab": {
          "base_uri": "https://localhost:8080/",
          "height": 51
        },
        "outputId": "91f7dea3-9aa0-460d-c12f-d758f4919be7"
      },
      "source": [
        "#5.FIBONACCI SERIES\n",
        "\n",
        "n = int(input(\"#n\"))\n",
        "x=0\n",
        "b=1\n",
        "c=1\n",
        "s=0\n",
        "print('Series: ',end=' ')\n",
        "while(c<=n):\n",
        "    print(s,end=' ')\n",
        "    c+=1\n",
        "    a=b\n",
        "    b=s\n",
        "    s=a+b"
      ],
      "execution_count": 7,
      "outputs": [
        {
          "output_type": "stream",
          "text": [
            "#n7\n",
            "Series:  0 1 1 2 3 5 8 "
          ],
          "name": "stdout"
        }
      ]
    },
    {
      "cell_type": "code",
      "metadata": {
        "id": "7o543cc6AR5u",
        "colab_type": "code",
        "colab": {}
      },
      "source": [
        ""
      ],
      "execution_count": 0,
      "outputs": []
    }
  ]
}